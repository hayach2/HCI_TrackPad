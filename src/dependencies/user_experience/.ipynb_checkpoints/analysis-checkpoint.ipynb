{
 "cells": [
  {
   "cell_type": "markdown",
   "id": "db82b4a7",
   "metadata": {},
   "source": [
    "1- Which tests by mouse vs. direct touch (- heatmap : color code the performance, green is the trackpad & red for direct touch)\n",
    "2- Histogram for small medium large  (x: position, y: time)\n",
    "3- Model our data on fitt's law\n",
    "4- Model Error rate same metel tahet bas error mahal time bel y\n",
    "5- Histogram AB testing over 27 tests (x: tests, y: time) this is to compare time if users were more comfortable in A or B (Learning curve)"
   ]
  }
 ],
 "metadata": {
  "kernelspec": {
   "display_name": "Python 3 (ipykernel)",
   "language": "python",
   "name": "python3"
  },
  "language_info": {
   "codemirror_mode": {
    "name": "ipython",
    "version": 3
   },
   "file_extension": ".py",
   "mimetype": "text/x-python",
   "name": "python",
   "nbconvert_exporter": "python",
   "pygments_lexer": "ipython3",
   "version": "3.11.1"
  }
 },
 "nbformat": 4,
 "nbformat_minor": 5
}
